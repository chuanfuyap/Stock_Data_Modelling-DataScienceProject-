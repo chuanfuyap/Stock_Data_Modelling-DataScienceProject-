{
 "cells": [
  {
   "cell_type": "code",
   "execution_count": 1,
   "metadata": {
    "collapsed": true
   },
   "outputs": [],
   "source": [
    "%matplotlib inline\n",
    "import numpy as np\n",
    "import pandas as pd\n",
    "import matplotlib.pyplot as plt\n",
    "from sklearn.svm import SVR\n",
    "from sklearn.svm import SVC\n",
    "import scipy.stats as sp\n",
    "from sklearn.grid_search import GridSearchCV as GS"
   ]
  },
  {
   "cell_type": "markdown",
   "metadata": {},
   "source": [
    "## Previously, I built SVR/SVC models without modifying the parameters.\n",
    "\n",
    "Now, I will attempt to build the models using the GridSearch function to optimise the models being built."
   ]
  },
  {
   "cell_type": "code",
   "execution_count": 2,
   "metadata": {
    "collapsed": true
   },
   "outputs": [],
   "source": [
    "msft = pd.DataFrame.from_csv('MSFT.csv')\n",
    "msft = msft.interpolate()\n",
    "#changing the index to go from 1986 to 2016\n",
    "msft = msft.reindex(index=msft.index[::-1])\n",
    "investor = pd.DataFrame.from_csv('investor.csv')\n",
    "investor = investor.fillna(investor.mean())\n",
    "#changing the index to go from 1987 to 2016\n",
    "investor = investor.reindex(index=investor.index[::-1])"
   ]
  },
  {
   "cell_type": "code",
   "execution_count": 3,
   "metadata": {
    "collapsed": false
   },
   "outputs": [
    {
     "data": {
      "text/html": [
       "<div>\n",
       "<table border=\"1\" class=\"dataframe\">\n",
       "  <thead>\n",
       "    <tr style=\"text-align: right;\">\n",
       "      <th></th>\n",
       "      <th>Open</th>\n",
       "      <th>High</th>\n",
       "      <th>Low</th>\n",
       "      <th>Close</th>\n",
       "      <th>Volume</th>\n",
       "      <th>Ex-Dividend</th>\n",
       "      <th>Split Ratio</th>\n",
       "      <th>Adj. Open</th>\n",
       "      <th>Adj. High</th>\n",
       "      <th>Adj. Low</th>\n",
       "      <th>Adj. Close</th>\n",
       "      <th>Adj. Volume</th>\n",
       "    </tr>\n",
       "    <tr>\n",
       "      <th>Date</th>\n",
       "      <th></th>\n",
       "      <th></th>\n",
       "      <th></th>\n",
       "      <th></th>\n",
       "      <th></th>\n",
       "      <th></th>\n",
       "      <th></th>\n",
       "      <th></th>\n",
       "      <th></th>\n",
       "      <th></th>\n",
       "      <th></th>\n",
       "      <th></th>\n",
       "    </tr>\n",
       "  </thead>\n",
       "  <tbody>\n",
       "    <tr>\n",
       "      <th>1986-03-13</th>\n",
       "      <td>25.50</td>\n",
       "      <td>29.25</td>\n",
       "      <td>25.5</td>\n",
       "      <td>28.00</td>\n",
       "      <td>3582600.0</td>\n",
       "      <td>0.0</td>\n",
       "      <td>1.0</td>\n",
       "      <td>0.060989</td>\n",
       "      <td>0.069957</td>\n",
       "      <td>0.060989</td>\n",
       "      <td>0.066968</td>\n",
       "      <td>1.031789e+09</td>\n",
       "    </tr>\n",
       "    <tr>\n",
       "      <th>1986-03-14</th>\n",
       "      <td>28.00</td>\n",
       "      <td>29.50</td>\n",
       "      <td>28.0</td>\n",
       "      <td>29.00</td>\n",
       "      <td>1070000.0</td>\n",
       "      <td>0.0</td>\n",
       "      <td>1.0</td>\n",
       "      <td>0.066968</td>\n",
       "      <td>0.070555</td>\n",
       "      <td>0.066968</td>\n",
       "      <td>0.069360</td>\n",
       "      <td>3.081600e+08</td>\n",
       "    </tr>\n",
       "    <tr>\n",
       "      <th>1986-03-17</th>\n",
       "      <td>29.00</td>\n",
       "      <td>29.75</td>\n",
       "      <td>29.0</td>\n",
       "      <td>29.50</td>\n",
       "      <td>462400.0</td>\n",
       "      <td>0.0</td>\n",
       "      <td>1.0</td>\n",
       "      <td>0.069360</td>\n",
       "      <td>0.071153</td>\n",
       "      <td>0.069360</td>\n",
       "      <td>0.070555</td>\n",
       "      <td>1.331712e+08</td>\n",
       "    </tr>\n",
       "    <tr>\n",
       "      <th>1986-03-18</th>\n",
       "      <td>29.50</td>\n",
       "      <td>29.75</td>\n",
       "      <td>28.5</td>\n",
       "      <td>28.75</td>\n",
       "      <td>235300.0</td>\n",
       "      <td>0.0</td>\n",
       "      <td>1.0</td>\n",
       "      <td>0.070555</td>\n",
       "      <td>0.071153</td>\n",
       "      <td>0.068164</td>\n",
       "      <td>0.068762</td>\n",
       "      <td>6.776640e+07</td>\n",
       "    </tr>\n",
       "    <tr>\n",
       "      <th>1986-03-19</th>\n",
       "      <td>28.75</td>\n",
       "      <td>29.00</td>\n",
       "      <td>28.0</td>\n",
       "      <td>28.25</td>\n",
       "      <td>166300.0</td>\n",
       "      <td>0.0</td>\n",
       "      <td>1.0</td>\n",
       "      <td>0.068762</td>\n",
       "      <td>0.069360</td>\n",
       "      <td>0.066968</td>\n",
       "      <td>0.067566</td>\n",
       "      <td>4.789440e+07</td>\n",
       "    </tr>\n",
       "  </tbody>\n",
       "</table>\n",
       "</div>"
      ],
      "text/plain": [
       "             Open   High   Low  Close     Volume  Ex-Dividend  Split Ratio  \\\n",
       "Date                                                                         \n",
       "1986-03-13  25.50  29.25  25.5  28.00  3582600.0          0.0          1.0   \n",
       "1986-03-14  28.00  29.50  28.0  29.00  1070000.0          0.0          1.0   \n",
       "1986-03-17  29.00  29.75  29.0  29.50   462400.0          0.0          1.0   \n",
       "1986-03-18  29.50  29.75  28.5  28.75   235300.0          0.0          1.0   \n",
       "1986-03-19  28.75  29.00  28.0  28.25   166300.0          0.0          1.0   \n",
       "\n",
       "            Adj. Open  Adj. High  Adj. Low  Adj. Close   Adj. Volume  \n",
       "Date                                                                  \n",
       "1986-03-13   0.060989   0.069957  0.060989    0.066968  1.031789e+09  \n",
       "1986-03-14   0.066968   0.070555  0.066968    0.069360  3.081600e+08  \n",
       "1986-03-17   0.069360   0.071153  0.069360    0.070555  1.331712e+08  \n",
       "1986-03-18   0.070555   0.071153  0.068164    0.068762  6.776640e+07  \n",
       "1986-03-19   0.068762   0.069360  0.066968    0.067566  4.789440e+07  "
      ]
     },
     "execution_count": 3,
     "metadata": {},
     "output_type": "execute_result"
    }
   ],
   "source": [
    "#quick reminder of what the data looks like\n",
    "msft.head()"
   ]
  },
  {
   "cell_type": "code",
   "execution_count": 4,
   "metadata": {
    "collapsed": false
   },
   "outputs": [
    {
     "data": {
      "text/html": [
       "<div>\n",
       "<table border=\"1\" class=\"dataframe\">\n",
       "  <thead>\n",
       "    <tr style=\"text-align: right;\">\n",
       "      <th></th>\n",
       "      <th>Bullish</th>\n",
       "      <th>Neutral</th>\n",
       "      <th>Bearish</th>\n",
       "      <th>Total</th>\n",
       "      <th>Bullish 8-Week Mov Avg</th>\n",
       "      <th>Bull-Bear Spread</th>\n",
       "      <th>Bullish Average</th>\n",
       "      <th>Bullish Average + St. Dev</th>\n",
       "      <th>Bullish Average - St. Dev</th>\n",
       "      <th>S&amp;P 500 Weekly High</th>\n",
       "      <th>S&amp;P 500 Weekly Low</th>\n",
       "      <th>S&amp;P 500 Weekly Close</th>\n",
       "    </tr>\n",
       "    <tr>\n",
       "      <th>Date</th>\n",
       "      <th></th>\n",
       "      <th></th>\n",
       "      <th></th>\n",
       "      <th></th>\n",
       "      <th></th>\n",
       "      <th></th>\n",
       "      <th></th>\n",
       "      <th></th>\n",
       "      <th></th>\n",
       "      <th></th>\n",
       "      <th></th>\n",
       "      <th></th>\n",
       "    </tr>\n",
       "  </thead>\n",
       "  <tbody>\n",
       "    <tr>\n",
       "      <th>1987-06-26</th>\n",
       "      <td>0.384424</td>\n",
       "      <td>0.312702</td>\n",
       "      <td>0.302874</td>\n",
       "      <td>0.999999</td>\n",
       "      <td>0.384009</td>\n",
       "      <td>0.08155</td>\n",
       "      <td>0.386014</td>\n",
       "      <td>0.489178</td>\n",
       "      <td>0.28285</td>\n",
       "      <td>1038.23181</td>\n",
       "      <td>1011.831541</td>\n",
       "      <td>1026.840289</td>\n",
       "    </tr>\n",
       "    <tr>\n",
       "      <th>1987-07-17</th>\n",
       "      <td>0.384424</td>\n",
       "      <td>0.312702</td>\n",
       "      <td>0.302874</td>\n",
       "      <td>0.999999</td>\n",
       "      <td>0.384009</td>\n",
       "      <td>0.08155</td>\n",
       "      <td>0.386014</td>\n",
       "      <td>0.489178</td>\n",
       "      <td>0.28285</td>\n",
       "      <td>314.59000</td>\n",
       "      <td>307.630000</td>\n",
       "      <td>314.590000</td>\n",
       "    </tr>\n",
       "    <tr>\n",
       "      <th>1987-07-24</th>\n",
       "      <td>0.360000</td>\n",
       "      <td>0.500000</td>\n",
       "      <td>0.140000</td>\n",
       "      <td>1.000000</td>\n",
       "      <td>0.384009</td>\n",
       "      <td>0.22000</td>\n",
       "      <td>0.386014</td>\n",
       "      <td>0.489178</td>\n",
       "      <td>0.28285</td>\n",
       "      <td>311.39000</td>\n",
       "      <td>307.810000</td>\n",
       "      <td>309.270000</td>\n",
       "    </tr>\n",
       "    <tr>\n",
       "      <th>1987-07-31</th>\n",
       "      <td>0.260000</td>\n",
       "      <td>0.480000</td>\n",
       "      <td>0.260000</td>\n",
       "      <td>1.000000</td>\n",
       "      <td>0.384009</td>\n",
       "      <td>0.00000</td>\n",
       "      <td>0.386014</td>\n",
       "      <td>0.489178</td>\n",
       "      <td>0.28285</td>\n",
       "      <td>318.66000</td>\n",
       "      <td>310.650000</td>\n",
       "      <td>318.660000</td>\n",
       "    </tr>\n",
       "    <tr>\n",
       "      <th>1987-08-07</th>\n",
       "      <td>0.560000</td>\n",
       "      <td>0.150000</td>\n",
       "      <td>0.290000</td>\n",
       "      <td>1.000000</td>\n",
       "      <td>0.384009</td>\n",
       "      <td>0.27000</td>\n",
       "      <td>0.386014</td>\n",
       "      <td>0.489178</td>\n",
       "      <td>0.28285</td>\n",
       "      <td>323.00000</td>\n",
       "      <td>316.230000</td>\n",
       "      <td>323.000000</td>\n",
       "    </tr>\n",
       "  </tbody>\n",
       "</table>\n",
       "</div>"
      ],
      "text/plain": [
       "             Bullish   Neutral   Bearish     Total  Bullish 8-Week Mov Avg  \\\n",
       "Date                                                                         \n",
       "1987-06-26  0.384424  0.312702  0.302874  0.999999                0.384009   \n",
       "1987-07-17  0.384424  0.312702  0.302874  0.999999                0.384009   \n",
       "1987-07-24  0.360000  0.500000  0.140000  1.000000                0.384009   \n",
       "1987-07-31  0.260000  0.480000  0.260000  1.000000                0.384009   \n",
       "1987-08-07  0.560000  0.150000  0.290000  1.000000                0.384009   \n",
       "\n",
       "            Bull-Bear Spread  Bullish Average  Bullish Average + St. Dev  \\\n",
       "Date                                                                       \n",
       "1987-06-26           0.08155         0.386014                   0.489178   \n",
       "1987-07-17           0.08155         0.386014                   0.489178   \n",
       "1987-07-24           0.22000         0.386014                   0.489178   \n",
       "1987-07-31           0.00000         0.386014                   0.489178   \n",
       "1987-08-07           0.27000         0.386014                   0.489178   \n",
       "\n",
       "            Bullish Average - St. Dev  S&P 500 Weekly High  \\\n",
       "Date                                                         \n",
       "1987-06-26                    0.28285           1038.23181   \n",
       "1987-07-17                    0.28285            314.59000   \n",
       "1987-07-24                    0.28285            311.39000   \n",
       "1987-07-31                    0.28285            318.66000   \n",
       "1987-08-07                    0.28285            323.00000   \n",
       "\n",
       "            S&P 500 Weekly Low  S&P 500 Weekly Close  \n",
       "Date                                                  \n",
       "1987-06-26         1011.831541           1026.840289  \n",
       "1987-07-17          307.630000            314.590000  \n",
       "1987-07-24          307.810000            309.270000  \n",
       "1987-07-31          310.650000            318.660000  \n",
       "1987-08-07          316.230000            323.000000  "
      ]
     },
     "execution_count": 4,
     "metadata": {},
     "output_type": "execute_result"
    }
   ],
   "source": [
    "investor.head()"
   ]
  },
  {
   "cell_type": "markdown",
   "metadata": {},
   "source": [
    "## Using data from year 2005 for training and 2006 for testing and using all the sentiments features for modelling"
   ]
  },
  {
   "cell_type": "code",
   "execution_count": 5,
   "metadata": {
    "collapsed": false
   },
   "outputs": [],
   "source": [
    "investor2005 = investor['2005']\n",
    "investorSentiments2005 = investor2005[['Bullish','Neutral','Bearish']]\n",
    "msft2005 = msft.loc[investor2005.index].interpolate()\n",
    "op2005 = msft2005.Open"
   ]
  },
  {
   "cell_type": "code",
   "execution_count": 6,
   "metadata": {
    "collapsed": false
   },
   "outputs": [],
   "source": [
    "def pearson_correlation(clf, x, y):\n",
    "    xresults = clf.predict(x)\n",
    "    xlist = np.array(xresults.tolist())\n",
    "    ylist = np.array(y.tolist())\n",
    "    num1, num2 = sp.pearsonr(ylist, xlist)\n",
    "    return num1"
   ]
  },
  {
   "cell_type": "code",
   "execution_count": 7,
   "metadata": {
    "collapsed": true
   },
   "outputs": [],
   "source": [
    "svrModel = SVR()"
   ]
  },
  {
   "cell_type": "code",
   "execution_count": 8,
   "metadata": {
    "collapsed": false
   },
   "outputs": [],
   "source": [
    "params =[ {\"C\": [0.001, 0.01, 0.1, 1, 5, 10, 100],\n",
    "           'epsilon':[0.001, 0.01, 0.1, 1, 5, 10, 100],\n",
    "           'kernel':[ 'linear', 'rbf'],\n",
    "          'gamma':[0, 0.001, 0.01, 0.1, 1]},\n",
    "         {\"C\": [0.001, 0.01, 0.1, 1, 5, 10, 100],\n",
    "           'epsilon':[0.001, 0.01, 0.1, 1, 5, 10, 100],\n",
    "           'kernel':['poly', 'sigmoid'],\n",
    "          'degree':[1, 2, 3, 4, 5],\n",
    "          'coef0':[0, 0.001, 0.01, 0.1, 1],\n",
    "          'gamma':[0, 0.001, 0.01, 0.1, 1]}\n",
    "         ]"
   ]
  },
  {
   "cell_type": "code",
   "execution_count": 9,
   "metadata": {
    "collapsed": false
   },
   "outputs": [
    {
     "data": {
      "text/plain": [
       "{'C': 0.001, 'epsilon': 1, 'gamma': 0, 'kernel': 'linear'}"
      ]
     },
     "execution_count": 9,
     "metadata": {},
     "output_type": "execute_result"
    }
   ],
   "source": [
    "gridsearch = GS(svrModel, param_grid=params, scoring=pearson_correlation)\n",
    "gridsearch.fit(investorSentiments2005,op2005)\n",
    "gridsearch.best_params_"
   ]
  },
  {
   "cell_type": "code",
   "execution_count": 13,
   "metadata": {
    "collapsed": false
   },
   "outputs": [],
   "source": [
    "svrModel = SVR(C=0.001, epsilon=1, gamma='auto', kernel='linear')"
   ]
  },
  {
   "cell_type": "code",
   "execution_count": 14,
   "metadata": {
    "collapsed": false
   },
   "outputs": [
    {
     "data": {
      "text/plain": [
       "SVR(C=0.001, cache_size=200, coef0=0.0, degree=3, epsilon=1, gamma='auto',\n",
       "  kernel='linear', max_iter=-1, shrinking=True, tol=0.001, verbose=False)"
      ]
     },
     "execution_count": 14,
     "metadata": {},
     "output_type": "execute_result"
    }
   ],
   "source": [
    "svrModel.fit(investorSentiments2005,op2005)"
   ]
  },
  {
   "cell_type": "code",
   "execution_count": null,
   "metadata": {
    "collapsed": false
   },
   "outputs": [],
   "source": [
    "investor2006 = investor['2007']\n",
    "investorSentiments2007 = investor2007[['Bullish','Neutral','Bearish']]\n",
    "svrPred2007 = svrModel.predict(investorSentiments2007)\n",
    "msft2007 = msft.loc[investorSentiments2007.index].interpolate()\n",
    "op2007 = msft2007.Open"
   ]
  },
  {
   "cell_type": "code",
   "execution_count": null,
   "metadata": {
    "collapsed": false
   },
   "outputs": [],
   "source": [
    "svrPred2007 = pd.Series(svrPred2007, investorSentiments2007.index)\n",
    "svrPred2007.plot(color='red')\n",
    "op2007.plot(color='blue')"
   ]
  },
  {
   "cell_type": "code",
   "execution_count": null,
   "metadata": {
    "collapsed": false
   },
   "outputs": [],
   "source": [
    "svrPred2006list = np.array(svrPred2006.tolist())\n",
    "ori2006list = np.array(op2006.tolist())\n",
    "\n",
    "\n",
    "print('Pearson Correlation Coeefiecient: ', sp.pearsonr(ori2006list, svrPred2006list))\n",
    "\n",
    "error2 = [((x-y)/y)**2 for x, y in zip(svrPred2006list, ori2006list)]\n",
    "print (\"Normalised RMSE\",np.sqrt(np.sum(error2)))"
   ]
  },
  {
   "cell_type": "code",
   "execution_count": null,
   "metadata": {
    "collapsed": true
   },
   "outputs": [],
   "source": []
  }
 ],
 "metadata": {
  "kernelspec": {
   "display_name": "Python [Root]",
   "language": "python",
   "name": "Python [Root]"
  },
  "language_info": {
   "codemirror_mode": {
    "name": "ipython",
    "version": 2
   },
   "file_extension": ".py",
   "mimetype": "text/x-python",
   "name": "python",
   "nbconvert_exporter": "python",
   "pygments_lexer": "ipython2",
   "version": "2.7.12"
  }
 },
 "nbformat": 4,
 "nbformat_minor": 0
}
