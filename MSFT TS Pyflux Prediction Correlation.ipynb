{
 "cells": [
  {
   "cell_type": "code",
   "execution_count": 126,
   "metadata": {
    "collapsed": true
   },
   "outputs": [],
   "source": [
    "%matplotlib inline\n",
    "import numpy as np\n",
    "import pandas as pd\n",
    "import pyflux as pf\n",
    "import matplotlib.pyplot as plt\n",
    "import statsmodels.tsa.stattools as sm\n",
    "import statsmodels.tsa.api as smt\n",
    "import scipy.stats as sp\n",
    "from sklearn.metrics import mean_squared_error as mse\n"
   ]
  },
  {
   "cell_type": "code",
   "execution_count": 70,
   "metadata": {
    "collapsed": false
   },
   "outputs": [
    {
     "data": {
      "text/html": [
       "<div>\n",
       "<table border=\"1\" class=\"dataframe\">\n",
       "  <thead>\n",
       "    <tr style=\"text-align: right;\">\n",
       "      <th></th>\n",
       "      <th>Open</th>\n",
       "      <th>High</th>\n",
       "      <th>Low</th>\n",
       "      <th>Close</th>\n",
       "      <th>Volume</th>\n",
       "      <th>Ex-Dividend</th>\n",
       "      <th>Split Ratio</th>\n",
       "      <th>Adj. Open</th>\n",
       "      <th>Adj. High</th>\n",
       "      <th>Adj. Low</th>\n",
       "      <th>Adj. Close</th>\n",
       "      <th>Adj. Volume</th>\n",
       "    </tr>\n",
       "    <tr>\n",
       "      <th>Date</th>\n",
       "      <th></th>\n",
       "      <th></th>\n",
       "      <th></th>\n",
       "      <th></th>\n",
       "      <th></th>\n",
       "      <th></th>\n",
       "      <th></th>\n",
       "      <th></th>\n",
       "      <th></th>\n",
       "      <th></th>\n",
       "      <th></th>\n",
       "      <th></th>\n",
       "    </tr>\n",
       "  </thead>\n",
       "  <tbody>\n",
       "    <tr>\n",
       "      <th>2016-09-15</th>\n",
       "      <td>56.15</td>\n",
       "      <td>57.350</td>\n",
       "      <td>55.98</td>\n",
       "      <td>57.19</td>\n",
       "      <td>26435104.0</td>\n",
       "      <td>0.0</td>\n",
       "      <td>1.0</td>\n",
       "      <td>56.15</td>\n",
       "      <td>57.350</td>\n",
       "      <td>55.98</td>\n",
       "      <td>57.19</td>\n",
       "      <td>26435104.0</td>\n",
       "    </tr>\n",
       "    <tr>\n",
       "      <th>2016-09-14</th>\n",
       "      <td>56.39</td>\n",
       "      <td>56.630</td>\n",
       "      <td>56.03</td>\n",
       "      <td>56.26</td>\n",
       "      <td>23616182.0</td>\n",
       "      <td>0.0</td>\n",
       "      <td>1.0</td>\n",
       "      <td>56.39</td>\n",
       "      <td>56.630</td>\n",
       "      <td>56.03</td>\n",
       "      <td>56.26</td>\n",
       "      <td>23616182.0</td>\n",
       "    </tr>\n",
       "    <tr>\n",
       "      <th>2016-09-13</th>\n",
       "      <td>56.50</td>\n",
       "      <td>56.650</td>\n",
       "      <td>56.05</td>\n",
       "      <td>56.53</td>\n",
       "      <td>29465088.0</td>\n",
       "      <td>0.0</td>\n",
       "      <td>1.0</td>\n",
       "      <td>56.50</td>\n",
       "      <td>56.650</td>\n",
       "      <td>56.05</td>\n",
       "      <td>56.53</td>\n",
       "      <td>29465088.0</td>\n",
       "    </tr>\n",
       "    <tr>\n",
       "      <th>2016-09-12</th>\n",
       "      <td>56.00</td>\n",
       "      <td>57.205</td>\n",
       "      <td>55.61</td>\n",
       "      <td>57.05</td>\n",
       "      <td>28441578.0</td>\n",
       "      <td>0.0</td>\n",
       "      <td>1.0</td>\n",
       "      <td>56.00</td>\n",
       "      <td>57.205</td>\n",
       "      <td>55.61</td>\n",
       "      <td>57.05</td>\n",
       "      <td>28441578.0</td>\n",
       "    </tr>\n",
       "    <tr>\n",
       "      <th>2016-09-09</th>\n",
       "      <td>56.79</td>\n",
       "      <td>57.520</td>\n",
       "      <td>56.21</td>\n",
       "      <td>56.21</td>\n",
       "      <td>33475922.0</td>\n",
       "      <td>0.0</td>\n",
       "      <td>1.0</td>\n",
       "      <td>56.79</td>\n",
       "      <td>57.520</td>\n",
       "      <td>56.21</td>\n",
       "      <td>56.21</td>\n",
       "      <td>33475922.0</td>\n",
       "    </tr>\n",
       "  </tbody>\n",
       "</table>\n",
       "</div>"
      ],
      "text/plain": [
       "             Open    High    Low  Close      Volume  Ex-Dividend  Split Ratio  \\\n",
       "Date                                                                            \n",
       "2016-09-15  56.15  57.350  55.98  57.19  26435104.0          0.0          1.0   \n",
       "2016-09-14  56.39  56.630  56.03  56.26  23616182.0          0.0          1.0   \n",
       "2016-09-13  56.50  56.650  56.05  56.53  29465088.0          0.0          1.0   \n",
       "2016-09-12  56.00  57.205  55.61  57.05  28441578.0          0.0          1.0   \n",
       "2016-09-09  56.79  57.520  56.21  56.21  33475922.0          0.0          1.0   \n",
       "\n",
       "            Adj. Open  Adj. High  Adj. Low  Adj. Close  Adj. Volume  \n",
       "Date                                                                 \n",
       "2016-09-15      56.15     57.350     55.98       57.19   26435104.0  \n",
       "2016-09-14      56.39     56.630     56.03       56.26   23616182.0  \n",
       "2016-09-13      56.50     56.650     56.05       56.53   29465088.0  \n",
       "2016-09-12      56.00     57.205     55.61       57.05   28441578.0  \n",
       "2016-09-09      56.79     57.520     56.21       56.21   33475922.0  "
      ]
     },
     "execution_count": 70,
     "metadata": {},
     "output_type": "execute_result"
    }
   ],
   "source": [
    "msft = pd.DataFrame.from_csv('MSFT.csv')\n",
    "msft = msft.fillna(msft.mean())\n",
    "msft.head()"
   ]
  },
  {
   "cell_type": "code",
   "execution_count": 71,
   "metadata": {
    "collapsed": false
   },
   "outputs": [
    {
     "data": {
      "text/html": [
       "<div>\n",
       "<table border=\"1\" class=\"dataframe\">\n",
       "  <thead>\n",
       "    <tr style=\"text-align: right;\">\n",
       "      <th></th>\n",
       "      <th>Open</th>\n",
       "      <th>High</th>\n",
       "      <th>Low</th>\n",
       "      <th>Close</th>\n",
       "      <th>Volume</th>\n",
       "      <th>Ex-Dividend</th>\n",
       "      <th>Split Ratio</th>\n",
       "      <th>Adj. Open</th>\n",
       "      <th>Adj. High</th>\n",
       "      <th>Adj. Low</th>\n",
       "      <th>Adj. Close</th>\n",
       "      <th>Adj. Volume</th>\n",
       "    </tr>\n",
       "  </thead>\n",
       "  <tbody>\n",
       "    <tr>\n",
       "      <th>2000-01-03</th>\n",
       "      <td>117.38</td>\n",
       "      <td>118.62</td>\n",
       "      <td>112.00</td>\n",
       "      <td>116.56</td>\n",
       "      <td>26614200.0</td>\n",
       "      <td>0.0</td>\n",
       "      <td>1.0</td>\n",
       "      <td>40.426354</td>\n",
       "      <td>40.853417</td>\n",
       "      <td>38.573450</td>\n",
       "      <td>40.143941</td>\n",
       "      <td>53228400.0</td>\n",
       "    </tr>\n",
       "    <tr>\n",
       "      <th>2000-01-04</th>\n",
       "      <td>113.56</td>\n",
       "      <td>117.12</td>\n",
       "      <td>112.25</td>\n",
       "      <td>112.62</td>\n",
       "      <td>27059500.0</td>\n",
       "      <td>0.0</td>\n",
       "      <td>1.0</td>\n",
       "      <td>39.110724</td>\n",
       "      <td>40.336808</td>\n",
       "      <td>38.659552</td>\n",
       "      <td>38.786982</td>\n",
       "      <td>54119000.0</td>\n",
       "    </tr>\n",
       "    <tr>\n",
       "      <th>2000-01-05</th>\n",
       "      <td>111.12</td>\n",
       "      <td>116.38</td>\n",
       "      <td>109.38</td>\n",
       "      <td>113.81</td>\n",
       "      <td>32029800.0</td>\n",
       "      <td>0.0</td>\n",
       "      <td>1.0</td>\n",
       "      <td>38.270373</td>\n",
       "      <td>40.081948</td>\n",
       "      <td>37.671107</td>\n",
       "      <td>39.196825</td>\n",
       "      <td>64059600.0</td>\n",
       "    </tr>\n",
       "    <tr>\n",
       "      <th>2000-01-06</th>\n",
       "      <td>112.19</td>\n",
       "      <td>113.88</td>\n",
       "      <td>108.38</td>\n",
       "      <td>110.00</td>\n",
       "      <td>27488300.0</td>\n",
       "      <td>0.0</td>\n",
       "      <td>1.0</td>\n",
       "      <td>38.638888</td>\n",
       "      <td>39.220933</td>\n",
       "      <td>37.326701</td>\n",
       "      <td>37.884639</td>\n",
       "      <td>54976600.0</td>\n",
       "    </tr>\n",
       "    <tr>\n",
       "      <th>2000-01-07</th>\n",
       "      <td>108.62</td>\n",
       "      <td>112.25</td>\n",
       "      <td>107.31</td>\n",
       "      <td>111.44</td>\n",
       "      <td>31006800.0</td>\n",
       "      <td>0.0</td>\n",
       "      <td>1.0</td>\n",
       "      <td>37.409359</td>\n",
       "      <td>38.659552</td>\n",
       "      <td>36.958187</td>\n",
       "      <td>38.380583</td>\n",
       "      <td>62013600.0</td>\n",
       "    </tr>\n",
       "  </tbody>\n",
       "</table>\n",
       "</div>"
      ],
      "text/plain": [
       "              Open    High     Low   Close      Volume  Ex-Dividend  \\\n",
       "2000-01-03  117.38  118.62  112.00  116.56  26614200.0          0.0   \n",
       "2000-01-04  113.56  117.12  112.25  112.62  27059500.0          0.0   \n",
       "2000-01-05  111.12  116.38  109.38  113.81  32029800.0          0.0   \n",
       "2000-01-06  112.19  113.88  108.38  110.00  27488300.0          0.0   \n",
       "2000-01-07  108.62  112.25  107.31  111.44  31006800.0          0.0   \n",
       "\n",
       "            Split Ratio  Adj. Open  Adj. High   Adj. Low  Adj. Close  \\\n",
       "2000-01-03          1.0  40.426354  40.853417  38.573450   40.143941   \n",
       "2000-01-04          1.0  39.110724  40.336808  38.659552   38.786982   \n",
       "2000-01-05          1.0  38.270373  40.081948  37.671107   39.196825   \n",
       "2000-01-06          1.0  38.638888  39.220933  37.326701   37.884639   \n",
       "2000-01-07          1.0  37.409359  38.659552  36.958187   38.380583   \n",
       "\n",
       "            Adj. Volume  \n",
       "2000-01-03   53228400.0  \n",
       "2000-01-04   54119000.0  \n",
       "2000-01-05   64059600.0  \n",
       "2000-01-06   54976600.0  \n",
       "2000-01-07   62013600.0  "
      ]
     },
     "execution_count": 71,
     "metadata": {},
     "output_type": "execute_result"
    }
   ],
   "source": [
    "yr2000=pd.date_range('2000-01-01','2001-01-01', freq='D')\n",
    "msft2000 = msft.loc[yr2000].dropna()\n",
    "op = msft2000.Open\n",
    "high = msft2000.High\n",
    "low = msft2000.Low\n",
    "close = msft2000.Close\n",
    "msft2000.head()"
   ]
  },
  {
   "cell_type": "code",
   "execution_count": 72,
   "metadata": {
    "collapsed": false
   },
   "outputs": [],
   "source": [
    "##after knowing doing differencing wiht order of 1 i have chosen value of 1 for integ parameter\n",
    "arimapf=pf.ARIMA(msft2000, ar=1, ma=1, integ=0,target='Open')"
   ]
  },
  {
   "cell_type": "code",
   "execution_count": 73,
   "metadata": {
    "collapsed": false
   },
   "outputs": [
    {
     "name": "stdout",
     "output_type": "stream",
     "text": [
      "ARIMA(1,0,1)                                                                                              \n",
      "======================================================= ==================================================\n",
      "Dependent Variable: Open                                Method: MLE                                       \n",
      "Start Date: 2000-01-04 00:00:00                         Log Likelihood: -584.2354                         \n",
      "End Date: 2000-12-29 00:00:00                           AIC: 1176.4708                                    \n",
      "Number of observations: 251                             BIC: 1190.5726                                    \n",
      "==========================================================================================================\n",
      "Latent Variable                          Estimate   Std Error  z        P>|z|    95% C.I.                 \n",
      "======================================== ========== ========== ======== ======== =========================\n",
      "Constant                                 0.9816     0.7807     1.2572   0.2087   (-0.5487 | 2.5118)       \n",
      "AR(1)                                    0.9833     0.01       98.7264  0.0      (0.9638 | 1.0029)        \n",
      "MA(1)                                    0.0746     0.0652     1.1449   0.2523   (-0.0531 | 0.2023)       \n",
      "Sigma                                    2.4811                                                           \n",
      "==========================================================================================================\n"
     ]
    }
   ],
   "source": [
    "fit=arimapf.fit()\n",
    "fit.summary()"
   ]
  },
  {
   "cell_type": "code",
   "execution_count": 113,
   "metadata": {
    "collapsed": false
   },
   "outputs": [
    {
     "data": {
      "text/plain": [
       "2001-03-07    54.344477\n",
       "2001-03-11    54.420691\n",
       "2001-03-12    54.495636\n",
       "2001-03-13    54.569332\n",
       "2001-03-14    54.641800\n",
       "Name: Open, dtype: float64"
      ]
     },
     "execution_count": 113,
     "metadata": {},
     "output_type": "execute_result"
    }
   ],
   "source": [
    "prediction=arimapf.predict(h=75).Open\n",
    "\n",
    "prediction.tail()"
   ]
  },
  {
   "cell_type": "code",
   "execution_count": 114,
   "metadata": {
    "collapsed": false
   },
   "outputs": [
    {
     "data": {
      "text/plain": [
       "2001-03-10      NaN\n",
       "2001-03-11      NaN\n",
       "2001-03-12    54.69\n",
       "2001-03-13    52.19\n",
       "2001-03-14    52.50\n",
       "Freq: D, Name: Open, dtype: float64"
      ]
     },
     "execution_count": 114,
     "metadata": {},
     "output_type": "execute_result"
    }
   ],
   "source": [
    "yr2001=pd.date_range(prediction.index.min(),prediction.index.max(), freq='D')\n",
    "msft2001 = msft.loc[yr2001]\n",
    "observed = msft2001.Open\n",
    "observed.tail()"
   ]
  },
  {
   "cell_type": "code",
   "execution_count": 115,
   "metadata": {
    "collapsed": false
   },
   "outputs": [],
   "source": [
    "Pindex = prediction.reindex(pd.date_range(start=prediction.index.min(), end=prediction.index.max(),freq='1D')) \n",
    "Oindex = observed.reindex(pd.date_range(start=observed.index.min(), end=observed.index.max(),freq='1D')) "
   ]
  },
  {
   "cell_type": "code",
   "execution_count": 116,
   "metadata": {
    "collapsed": false
   },
   "outputs": [],
   "source": [
    "Pindex=Pindex.interpolate(method='time')\n",
    "Oindex=Oindex.interpolate(method='time')"
   ]
  },
  {
   "cell_type": "code",
   "execution_count": 117,
   "metadata": {
    "collapsed": false
   },
   "outputs": [
    {
     "data": {
      "text/plain": [
       "<matplotlib.axes._subplots.AxesSubplot at 0x7f31eb099990>"
      ]
     },
     "execution_count": 117,
     "metadata": {},
     "output_type": "execute_result"
    },
    {
     "data": {
      "image/png": "[encoded data removed]",
      "text/plain": [
       "<matplotlib.figure.Figure at 0x7f31eea6b2d0>"
      ]
     },
     "metadata": {},
     "output_type": "display_data"
    }
   ],
   "source": [
    "Oindex.plot()\n",
    "Pindex.plot()"
   ]
  },
  {
   "cell_type": "code",
   "execution_count": 145,
   "metadata": {
    "collapsed": false
   },
   "outputs": [
    {
     "data": {
      "text/plain": [
       "(0.27845717653111629, 0.0036816532609986762)"
      ]
     },
     "execution_count": 145,
     "metadata": {},
     "output_type": "execute_result"
    }
   ],
   "source": [
    "##pearsson correlation\n",
    "olist = np.array((Oindex.tolist()))\n",
    "plist = np.array((Pindex.tolist()))\n",
    "\n",
    "sp.pearsonr(olist, plist)"
   ]
  },
  {
   "cell_type": "code",
   "execution_count": 149,
   "metadata": {
    "collapsed": false
   },
   "outputs": [
    {
     "data": {
      "text/plain": [
       "7.8350086532643886"
      ]
     },
     "execution_count": 149,
     "metadata": {},
     "output_type": "execute_result"
    }
   ],
   "source": [
    "error = [((x-y))**2 for x, y in zip(olist, plist)]\n",
    "np.sqrt(np.sum(error)/Pindex.count())"
   ]
  },
  {
   "cell_type": "code",
   "execution_count": 147,
   "metadata": {
    "collapsed": false
   },
   "outputs": [
    {
     "data": {
      "text/plain": [
       "7.8350086532643886"
      ]
     },
     "execution_count": 147,
     "metadata": {},
     "output_type": "execute_result"
    }
   ],
   "source": [
    "np.sqrt(mse(olist, plist))\n"
   ]
  },
  {
   "cell_type": "code",
   "execution_count": null,
   "metadata": {
    "collapsed": true
   },
   "outputs": [],
   "source": []
  }
 ],
 "metadata": {
  "anaconda-cloud": {},
  "kernelspec": {
   "display_name": "Python [Root]",
   "language": "python",
   "name": "Python [Root]"
  },
  "language_info": {
   "codemirror_mode": {
    "name": "ipython",
    "version": 2
   },
   "file_extension": ".py",
   "mimetype": "text/x-python",
   "name": "python",
   "nbconvert_exporter": "python",
   "pygments_lexer": "ipython2",
   "version": "2.7.12"
  }
 },
 "nbformat": 4,
 "nbformat_minor": 0
}
