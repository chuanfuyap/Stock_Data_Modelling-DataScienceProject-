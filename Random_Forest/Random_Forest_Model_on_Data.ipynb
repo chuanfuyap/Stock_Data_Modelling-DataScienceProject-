{
 "cells": [
  {
   "cell_type": "code",
   "execution_count": 1,
   "metadata": {
    "collapsed": false
   },
   "outputs": [],
   "source": [
    "%matplotlib inline\n",
    "import numpy as np\n",
    "import pandas as pd\n",
    "import matplotlib.pyplot as plt\n",
    "from sklearn.ensemble import RandomForestClassifier as RFC\n",
    "from sklearn.ensemble import RandomForestRegressor as RFR\n",
    "import scipy.stats as sp\n",
    "from sklearn.model_selection import GridSearchCV as GS"
   ]
  },
  {
   "cell_type": "markdown",
   "metadata": {},
   "source": [
    "## Previously, I built SVR/SVC models using GridSearch.\n",
    "\n",
    "Now, I will attempt to build Random Forest models using the GridSearch function to optimise the models being built."
   ]
  },
  {
   "cell_type": "code",
   "execution_count": 2,
   "metadata": {
    "collapsed": true
   },
   "outputs": [],
   "source": [
    "msft = pd.DataFrame.from_csv('MSFT.csv')\n",
    "msft = msft.interpolate()\n",
    "#changing the index to go from 1986 to 2016\n",
    "msft = msft.reindex(index=msft.index[::-1])\n",
    "investor = pd.DataFrame.from_csv('investor.csv')\n",
    "investor = investor.fillna(investor.mean())\n",
    "#changing the index to go from 1987 to 2016\n",
    "investor = investor.reindex(index=investor.index[::-1])"
   ]
  },
  {
   "cell_type": "code",
   "execution_count": 3,
   "metadata": {
    "collapsed": false
   },
   "outputs": [
    {
     "data": {
      "text/html": [
       "<div>\n",
       "<table border=\"1\" class=\"dataframe\">\n",
       "  <thead>\n",
       "    <tr style=\"text-align: right;\">\n",
       "      <th></th>\n",
       "      <th>Open</th>\n",
       "      <th>High</th>\n",
       "      <th>Low</th>\n",
       "      <th>Close</th>\n",
       "      <th>Volume</th>\n",
       "      <th>Ex-Dividend</th>\n",
       "      <th>Split Ratio</th>\n",
       "      <th>Adj. Open</th>\n",
       "      <th>Adj. High</th>\n",
       "      <th>Adj. Low</th>\n",
       "      <th>Adj. Close</th>\n",
       "      <th>Adj. Volume</th>\n",
       "    </tr>\n",
       "    <tr>\n",
       "      <th>Date</th>\n",
       "      <th></th>\n",
       "      <th></th>\n",
       "      <th></th>\n",
       "      <th></th>\n",
       "      <th></th>\n",
       "      <th></th>\n",
       "      <th></th>\n",
       "      <th></th>\n",
       "      <th></th>\n",
       "      <th></th>\n",
       "      <th></th>\n",
       "      <th></th>\n",
       "    </tr>\n",
       "  </thead>\n",
       "  <tbody>\n",
       "    <tr>\n",
       "      <th>1986-03-13</th>\n",
       "      <td>25.50</td>\n",
       "      <td>29.25</td>\n",
       "      <td>25.5</td>\n",
       "      <td>28.00</td>\n",
       "      <td>3582600.0</td>\n",
       "      <td>0.0</td>\n",
       "      <td>1.0</td>\n",
       "      <td>0.060989</td>\n",
       "      <td>0.069957</td>\n",
       "      <td>0.060989</td>\n",
       "      <td>0.066968</td>\n",
       "      <td>1.031789e+09</td>\n",
       "    </tr>\n",
       "    <tr>\n",
       "      <th>1986-03-14</th>\n",
       "      <td>28.00</td>\n",
       "      <td>29.50</td>\n",
       "      <td>28.0</td>\n",
       "      <td>29.00</td>\n",
       "      <td>1070000.0</td>\n",
       "      <td>0.0</td>\n",
       "      <td>1.0</td>\n",
       "      <td>0.066968</td>\n",
       "      <td>0.070555</td>\n",
       "      <td>0.066968</td>\n",
       "      <td>0.069360</td>\n",
       "      <td>3.081600e+08</td>\n",
       "    </tr>\n",
       "    <tr>\n",
       "      <th>1986-03-17</th>\n",
       "      <td>29.00</td>\n",
       "      <td>29.75</td>\n",
       "      <td>29.0</td>\n",
       "      <td>29.50</td>\n",
       "      <td>462400.0</td>\n",
       "      <td>0.0</td>\n",
       "      <td>1.0</td>\n",
       "      <td>0.069360</td>\n",
       "      <td>0.071153</td>\n",
       "      <td>0.069360</td>\n",
       "      <td>0.070555</td>\n",
       "      <td>1.331712e+08</td>\n",
       "    </tr>\n",
       "    <tr>\n",
       "      <th>1986-03-18</th>\n",
       "      <td>29.50</td>\n",
       "      <td>29.75</td>\n",
       "      <td>28.5</td>\n",
       "      <td>28.75</td>\n",
       "      <td>235300.0</td>\n",
       "      <td>0.0</td>\n",
       "      <td>1.0</td>\n",
       "      <td>0.070555</td>\n",
       "      <td>0.071153</td>\n",
       "      <td>0.068164</td>\n",
       "      <td>0.068762</td>\n",
       "      <td>6.776640e+07</td>\n",
       "    </tr>\n",
       "    <tr>\n",
       "      <th>1986-03-19</th>\n",
       "      <td>28.75</td>\n",
       "      <td>29.00</td>\n",
       "      <td>28.0</td>\n",
       "      <td>28.25</td>\n",
       "      <td>166300.0</td>\n",
       "      <td>0.0</td>\n",
       "      <td>1.0</td>\n",
       "      <td>0.068762</td>\n",
       "      <td>0.069360</td>\n",
       "      <td>0.066968</td>\n",
       "      <td>0.067566</td>\n",
       "      <td>4.789440e+07</td>\n",
       "    </tr>\n",
       "  </tbody>\n",
       "</table>\n",
       "</div>"
      ],
      "text/plain": [
       "             Open   High   Low  Close     Volume  Ex-Dividend  Split Ratio  \\\n",
       "Date                                                                         \n",
       "1986-03-13  25.50  29.25  25.5  28.00  3582600.0          0.0          1.0   \n",
       "1986-03-14  28.00  29.50  28.0  29.00  1070000.0          0.0          1.0   \n",
       "1986-03-17  29.00  29.75  29.0  29.50   462400.0          0.0          1.0   \n",
       "1986-03-18  29.50  29.75  28.5  28.75   235300.0          0.0          1.0   \n",
       "1986-03-19  28.75  29.00  28.0  28.25   166300.0          0.0          1.0   \n",
       "\n",
       "            Adj. Open  Adj. High  Adj. Low  Adj. Close   Adj. Volume  \n",
       "Date                                                                  \n",
       "1986-03-13   0.060989   0.069957  0.060989    0.066968  1.031789e+09  \n",
       "1986-03-14   0.066968   0.070555  0.066968    0.069360  3.081600e+08  \n",
       "1986-03-17   0.069360   0.071153  0.069360    0.070555  1.331712e+08  \n",
       "1986-03-18   0.070555   0.071153  0.068164    0.068762  6.776640e+07  \n",
       "1986-03-19   0.068762   0.069360  0.066968    0.067566  4.789440e+07  "
      ]
     },
     "execution_count": 3,
     "metadata": {},
     "output_type": "execute_result"
    }
   ],
   "source": [
    "#quick reminder of what the data looks like\n",
    "msft.head()"
   ]
  },
  {
   "cell_type": "code",
   "execution_count": 4,
   "metadata": {
    "collapsed": false
   },
   "outputs": [
    {
     "data": {
      "text/html": [
       "<div>\n",
       "<table border=\"1\" class=\"dataframe\">\n",
       "  <thead>\n",
       "    <tr style=\"text-align: right;\">\n",
       "      <th></th>\n",
       "      <th>Bullish</th>\n",
       "      <th>Neutral</th>\n",
       "      <th>Bearish</th>\n",
       "      <th>Total</th>\n",
       "      <th>Bullish 8-Week Mov Avg</th>\n",
       "      <th>Bull-Bear Spread</th>\n",
       "      <th>Bullish Average</th>\n",
       "      <th>Bullish Average + St. Dev</th>\n",
       "      <th>Bullish Average - St. Dev</th>\n",
       "      <th>S&amp;P 500 Weekly High</th>\n",
       "      <th>S&amp;P 500 Weekly Low</th>\n",
       "      <th>S&amp;P 500 Weekly Close</th>\n",
       "    </tr>\n",
       "    <tr>\n",
       "      <th>Date</th>\n",
       "      <th></th>\n",
       "      <th></th>\n",
       "      <th></th>\n",
       "      <th></th>\n",
       "      <th></th>\n",
       "      <th></th>\n",
       "      <th></th>\n",
       "      <th></th>\n",
       "      <th></th>\n",
       "      <th></th>\n",
       "      <th></th>\n",
       "      <th></th>\n",
       "    </tr>\n",
       "  </thead>\n",
       "  <tbody>\n",
       "    <tr>\n",
       "      <th>1987-06-26</th>\n",
       "      <td>0.384424</td>\n",
       "      <td>0.312702</td>\n",
       "      <td>0.302874</td>\n",
       "      <td>0.999999</td>\n",
       "      <td>0.384009</td>\n",
       "      <td>0.08155</td>\n",
       "      <td>0.386014</td>\n",
       "      <td>0.489178</td>\n",
       "      <td>0.28285</td>\n",
       "      <td>1038.23181</td>\n",
       "      <td>1011.831541</td>\n",
       "      <td>1026.840289</td>\n",
       "    </tr>\n",
       "    <tr>\n",
       "      <th>1987-07-17</th>\n",
       "      <td>0.384424</td>\n",
       "      <td>0.312702</td>\n",
       "      <td>0.302874</td>\n",
       "      <td>0.999999</td>\n",
       "      <td>0.384009</td>\n",
       "      <td>0.08155</td>\n",
       "      <td>0.386014</td>\n",
       "      <td>0.489178</td>\n",
       "      <td>0.28285</td>\n",
       "      <td>314.59000</td>\n",
       "      <td>307.630000</td>\n",
       "      <td>314.590000</td>\n",
       "    </tr>\n",
       "    <tr>\n",
       "      <th>1987-07-24</th>\n",
       "      <td>0.360000</td>\n",
       "      <td>0.500000</td>\n",
       "      <td>0.140000</td>\n",
       "      <td>1.000000</td>\n",
       "      <td>0.384009</td>\n",
       "      <td>0.22000</td>\n",
       "      <td>0.386014</td>\n",
       "      <td>0.489178</td>\n",
       "      <td>0.28285</td>\n",
       "      <td>311.39000</td>\n",
       "      <td>307.810000</td>\n",
       "      <td>309.270000</td>\n",
       "    </tr>\n",
       "    <tr>\n",
       "      <th>1987-07-31</th>\n",
       "      <td>0.260000</td>\n",
       "      <td>0.480000</td>\n",
       "      <td>0.260000</td>\n",
       "      <td>1.000000</td>\n",
       "      <td>0.384009</td>\n",
       "      <td>0.00000</td>\n",
       "      <td>0.386014</td>\n",
       "      <td>0.489178</td>\n",
       "      <td>0.28285</td>\n",
       "      <td>318.66000</td>\n",
       "      <td>310.650000</td>\n",
       "      <td>318.660000</td>\n",
       "    </tr>\n",
       "    <tr>\n",
       "      <th>1987-08-07</th>\n",
       "      <td>0.560000</td>\n",
       "      <td>0.150000</td>\n",
       "      <td>0.290000</td>\n",
       "      <td>1.000000</td>\n",
       "      <td>0.384009</td>\n",
       "      <td>0.27000</td>\n",
       "      <td>0.386014</td>\n",
       "      <td>0.489178</td>\n",
       "      <td>0.28285</td>\n",
       "      <td>323.00000</td>\n",
       "      <td>316.230000</td>\n",
       "      <td>323.000000</td>\n",
       "    </tr>\n",
       "  </tbody>\n",
       "</table>\n",
       "</div>"
      ],
      "text/plain": [
       "             Bullish   Neutral   Bearish     Total  Bullish 8-Week Mov Avg  \\\n",
       "Date                                                                         \n",
       "1987-06-26  0.384424  0.312702  0.302874  0.999999                0.384009   \n",
       "1987-07-17  0.384424  0.312702  0.302874  0.999999                0.384009   \n",
       "1987-07-24  0.360000  0.500000  0.140000  1.000000                0.384009   \n",
       "1987-07-31  0.260000  0.480000  0.260000  1.000000                0.384009   \n",
       "1987-08-07  0.560000  0.150000  0.290000  1.000000                0.384009   \n",
       "\n",
       "            Bull-Bear Spread  Bullish Average  Bullish Average + St. Dev  \\\n",
       "Date                                                                       \n",
       "1987-06-26           0.08155         0.386014                   0.489178   \n",
       "1987-07-17           0.08155         0.386014                   0.489178   \n",
       "1987-07-24           0.22000         0.386014                   0.489178   \n",
       "1987-07-31           0.00000         0.386014                   0.489178   \n",
       "1987-08-07           0.27000         0.386014                   0.489178   \n",
       "\n",
       "            Bullish Average - St. Dev  S&P 500 Weekly High  \\\n",
       "Date                                                         \n",
       "1987-06-26                    0.28285           1038.23181   \n",
       "1987-07-17                    0.28285            314.59000   \n",
       "1987-07-24                    0.28285            311.39000   \n",
       "1987-07-31                    0.28285            318.66000   \n",
       "1987-08-07                    0.28285            323.00000   \n",
       "\n",
       "            S&P 500 Weekly Low  S&P 500 Weekly Close  \n",
       "Date                                                  \n",
       "1987-06-26         1011.831541           1026.840289  \n",
       "1987-07-17          307.630000            314.590000  \n",
       "1987-07-24          307.810000            309.270000  \n",
       "1987-07-31          310.650000            318.660000  \n",
       "1987-08-07          316.230000            323.000000  "
      ]
     },
     "execution_count": 4,
     "metadata": {},
     "output_type": "execute_result"
    }
   ],
   "source": [
    "investor.head()"
   ]
  },
  {
   "cell_type": "code",
   "execution_count": 5,
   "metadata": {
    "collapsed": true
   },
   "outputs": [],
   "source": [
    "def evaluateModel(prediction,actual):    \n",
    "    prediction.plot(color='red', label='Prediction')\n",
    "    actual.plot(color='blue', label='Actual')\n",
    "    plt.legend(loc='best')\n",
    "    prediction = np.array(prediction.tolist())\n",
    "    actual = np.array(actual.tolist())\n",
    "    print('Pearson Correlation Coeefiecient: ', sp.pearsonr(actual, prediction))\n",
    "    error2 = [((x-y)/y)**2 for x, y in zip(prediction, actual)]\n",
    "    print (\"Normalised RMSE\",np.sqrt(np.sum(error2)))"
   ]
  },
  {
   "cell_type": "code",
   "execution_count": 6,
   "metadata": {
    "collapsed": true
   },
   "outputs": [],
   "source": [
    "pre2006 = investor['1987':'2005']\n",
    "trainData = pre2006[['Bullish','Neutral','Bearish']]\n",
    "pre2006 = msft.loc[trainData.index]\n",
    "pre2006 = pre2006.interpolate()\n",
    "trainOutput = pre2006.Open"
   ]
  },
  {
   "cell_type": "code",
   "execution_count": 7,
   "metadata": {
    "collapsed": true
   },
   "outputs": [],
   "source": [
    "investor2006 = investor['2006']\n",
    "testData = investor2006[['Bullish','Neutral','Bearish']]\n",
    "msft2006 = msft.loc[testData.index].interpolate()\n",
    "testOutput = msft2006.Open"
   ]
  },
  {
   "cell_type": "code",
   "execution_count": 8,
   "metadata": {
    "collapsed": false
   },
   "outputs": [],
   "source": [
    "params =[ {'criterion':[ 'mae', 'mse'],\n",
    "          'max_features':['auto', 'sqrt', 'log2'],\n",
    "          'min_samples_split':[2,3],\n",
    "          'bootstrap':[False],\n",
    "          'oob_score':[False],\n",
    "          'min_samples_leaf':[1,2,3],\n",
    "          'n_jobs':[6]},\n",
    "         {'criterion':[ 'mae', 'mse'],\n",
    "          'max_features':['auto', 'sqrt', 'log2'],\n",
    "          'min_samples_split':[2,3],\n",
    "          'bootstrap':[True],\n",
    "          'oob_score':[True],\n",
    "          'min_samples_leaf':[1,2,3],\n",
    "          'n_jobs':[6]} \n",
    "        ]"
   ]
  },
  {
   "cell_type": "code",
   "execution_count": 9,
   "metadata": {
    "collapsed": false
   },
   "outputs": [
    {
     "data": {
      "text/plain": [
       "{'bootstrap': True,\n",
       " 'criterion': 'mae',\n",
       " 'max_features': 'sqrt',\n",
       " 'min_samples_leaf': 3,\n",
       " 'min_samples_split': 2,\n",
       " 'n_jobs': 6,\n",
       " 'oob_score': True}"
      ]
     },
     "execution_count": 9,
     "metadata": {},
     "output_type": "execute_result"
    }
   ],
   "source": [
    "randomForestRegression = RFR()\n",
    "gridsearch = GS(randomForestRegression, param_grid=params)\n",
    "gridsearch.fit(trainData,trainOutput)\n",
    "gridsearch.best_params_"
   ]
  },
  {
   "cell_type": "code",
   "execution_count": 11,
   "metadata": {
    "collapsed": true
   },
   "outputs": [],
   "source": [
    "randomForestRegression = RFR(\n",
    " n_estimators=1000,\n",
    " bootstrap= True,\n",
    " criterion= 'mae',\n",
    " max_features= 'sqrt',\n",
    " min_samples_leaf= 3,\n",
    " min_samples_split= 2,\n",
    " n_jobs= 6,\n",
    " oob_score= True)"
   ]
  },
  {
   "cell_type": "code",
   "execution_count": 12,
   "metadata": {
    "collapsed": false
   },
   "outputs": [
    {
     "name": "stdout",
     "output_type": "stream",
     "text": [
      "('Pearson Correlation Coeefiecient: ', (0.4093061886093769, 0.0025867721762247498))\n",
      "('Normalised RMSE', 9.3940228284775245)\n"
     ]
    },
    {
     "data": {
      "image/png": "[encoded data removed]",
      "text/plain": [
       "<matplotlib.figure.Figure at 0x7fcb7e687610>"
      ]
     },
     "metadata": {},
     "output_type": "display_data"
    }
   ],
   "source": [
    "randomForestRegression.fit(trainData,trainOutput)\n",
    "prediction = randomForestRegression.predict(testData)\n",
    "prediction = pd.Series(prediction, testData.index)\n",
    "evaluateModel(prediction,testOutput)"
   ]
  },
  {
   "cell_type": "markdown",
   "metadata": {
    "collapsed": true
   },
   "source": [
    "Random Forest seem to outperform SVM in terms of regression scoring better in both pearson correlation and nRMSE. Now let's have a look at Random Forest's Classifier."
   ]
  },
  {
   "cell_type": "code",
   "execution_count": 16,
   "metadata": {
    "collapsed": false
   },
   "outputs": [],
   "source": [
    "trainOutputClf = []\n",
    "previousday = trainOutput[0]\n",
    "for stock in trainOutput[1:]:    \n",
    "    if (stock > previousday):\n",
    "        trainOutputClf.append(1)\n",
    "    else:\n",
    "        trainOutputClf.append(-1)\n",
    "    previousday = stock"
   ]
  },
  {
   "cell_type": "code",
   "execution_count": 17,
   "metadata": {
    "collapsed": true
   },
   "outputs": [],
   "source": [
    "lastdayof2005 = investor['2005']\n",
    "lastdayof2005 = lastdayof2005.index[-1]\n",
    "last2005stock = msft.loc[lastdayof2005].Open"
   ]
  },
  {
   "cell_type": "code",
   "execution_count": 20,
   "metadata": {
    "collapsed": false
   },
   "outputs": [],
   "source": [
    "testOutputClf = []\n",
    "previousday=last2005stock\n",
    "for stock in testOutput:    \n",
    "    if (stock > previousday):\n",
    "        testOutputClf.append(1)\n",
    "    else:\n",
    "        testOutputClf.append(-1)\n",
    "    previousday = stock"
   ]
  },
  {
   "cell_type": "code",
   "execution_count": 26,
   "metadata": {
    "collapsed": true
   },
   "outputs": [],
   "source": [
    "params2 =[ {'criterion':[ 'gini', 'entropy'],\n",
    "          'max_features':['auto', 'log2'],\n",
    "          'min_samples_split':[2,3],\n",
    "          'bootstrap':[False],\n",
    "          'oob_score':[False],\n",
    "          'min_samples_leaf':[1,2,3],\n",
    "          'n_jobs':[6]},\n",
    "         {'criterion':[ 'gini', 'entropy'],\n",
    "          'max_features':['auto', 'log2'],\n",
    "          'min_samples_split':[2,3],\n",
    "          'bootstrap':[True],\n",
    "          'oob_score':[True],\n",
    "          'min_samples_leaf':[1,2,3],\n",
    "          'n_jobs':[6]} \n",
    "        ]"
   ]
  },
  {
   "cell_type": "code",
   "execution_count": 29,
   "metadata": {
    "collapsed": false
   },
   "outputs": [
    {
     "name": "stderr",
     "output_type": "stream",
     "text": [
      "/home/chuanfuyap/Applications/anaconda2/lib/python2.7/site-packages/sklearn/ensemble/forest.py:439: UserWarning: Some inputs do not have OOB scores. This probably means too few trees were used to compute any reliable oob estimates.\n",
      "  warn(\"Some inputs do not have OOB scores. \"\n"
     ]
    },
    {
     "data": {
      "text/plain": [
       "{'bootstrap': True,\n",
       " 'criterion': 'gini',\n",
       " 'max_features': 'log2',\n",
       " 'min_samples_leaf': 1,\n",
       " 'min_samples_split': 3,\n",
       " 'n_jobs': 6,\n",
       " 'oob_score': True}"
      ]
     },
     "execution_count": 29,
     "metadata": {},
     "output_type": "execute_result"
    }
   ],
   "source": [
    "randomForestClassifier = RFC()\n",
    "gridsearch = GS(randomForestClassifier, param_grid=params2)\n",
    "gridsearch.fit(trainData[1:],trainOutputClf)\n",
    "gridsearch.best_params_"
   ]
  },
  {
   "cell_type": "code",
   "execution_count": 37,
   "metadata": {
    "collapsed": true
   },
   "outputs": [],
   "source": [
    "randomForestClassifier = RFC(\n",
    " n_estimators=1000,\n",
    " bootstrap= True,\n",
    " criterion= 'gini',\n",
    " max_features= 'log2',\n",
    " min_samples_leaf= 1,\n",
    " min_samples_split= 3,\n",
    " n_jobs= 6,\n",
    " oob_score= True\n",
    "    )"
   ]
  },
  {
   "cell_type": "code",
   "execution_count": 38,
   "metadata": {
    "collapsed": false
   },
   "outputs": [
    {
     "name": "stdout",
     "output_type": "stream",
     "text": [
      "('Prediction: ', array([-1, -1,  1, -1,  1,  1,  1,  1,  1, -1,  1,  1, -1,  1, -1, -1,  1,\n",
      "        1, -1, -1, -1, -1,  1, -1,  1, -1,  1, -1,  1,  1, -1,  1, -1,  1,\n",
      "       -1, -1, -1, -1, -1, -1, -1, -1, -1,  1,  1,  1, -1, -1,  1,  1,  1,\n",
      "        1]))\n",
      "('Actual: ', [1, 1, -1, -1, 1, -1, -1, -1, 1, 1, 1, -1, -1, 1, -1, -1, -1, -1, 1, -1, 1, -1, -1, -1, 1, 1, 1, -1, 1, 1, -1, 1, 1, 1, 1, -1, 1, 1, 1, 1, -1, 1, -1, 1, 1, 1, 1, 1, -1, 1, 1, -1])\n"
     ]
    },
    {
     "data": {
      "text/plain": [
       "0.5192307692307693"
      ]
     },
     "execution_count": 38,
     "metadata": {},
     "output_type": "execute_result"
    }
   ],
   "source": [
    "randomForestClassifier.fit(trainData[1:],trainOutputClf)\n",
    "prediction = randomForestClassifier.predict(testData)\n",
    "\n",
    "print('Prediction: ',randomForestClassifier.predict(testData))\n",
    "print('Actual: ', testOutputClf)\n",
    "from __future__ import division\n",
    "\n",
    "trackright=0\n",
    "for x , y in zip(prediction, testOutputClf):\n",
    "    if (x==y):\n",
    "        trackright+=1\n",
    "trackright/len(testOutputClf)"
   ]
  },
  {
   "cell_type": "markdown",
   "metadata": {},
   "source": [
    "It seems with Random Forest's Classifier, it is only right 50% of the time, though still better than SVM's which was only 44%."
   ]
  }
 ],
 "metadata": {
  "kernelspec": {
   "display_name": "Python [Root]",
   "language": "python",
   "name": "Python [Root]"
  },
  "language_info": {
   "codemirror_mode": {
    "name": "ipython",
    "version": 2
   },
   "file_extension": ".py",
   "mimetype": "text/x-python",
   "name": "python",
   "nbconvert_exporter": "python",
   "pygments_lexer": "ipython2",
   "version": "2.7.12"
  }
 },
 "nbformat": 4,
 "nbformat_minor": 0
}
