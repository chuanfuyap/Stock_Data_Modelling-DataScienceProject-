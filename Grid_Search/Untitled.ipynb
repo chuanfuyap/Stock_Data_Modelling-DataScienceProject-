{
 "cells": [
  {
   "cell_type": "code",
   "execution_count": 1,
   "metadata": {
    "collapsed": true
   },
   "outputs": [],
   "source": [
    "%matplotlib inline\n",
    "import numpy as np\n",
    "import pandas as pd\n",
    "import matplotlib.pyplot as plt\n",
    "from sklearn.svm import SVR\n",
    "from sklearn.svm import SVC\n",
    "import scipy.stats as sp\n",
    "from sklearn.grid_search import GridSearchCV as GS"
   ]
  },
  {
   "cell_type": "code",
   "execution_count": 2,
   "metadata": {
    "collapsed": true
   },
   "outputs": [],
   "source": [
    "msft = pd.DataFrame.from_csv('MSFT.csv')\n",
    "msft = msft.interpolate()\n",
    "#changing the index to go from 1986 to 2016\n",
    "msft = msft.reindex(index=msft.index[::-1])\n",
    "investor = pd.DataFrame.from_csv('investor.csv')\n",
    "investor = investor.fillna(investor.mean())\n",
    "#changing the index to go from 1987 to 2016\n",
    "investor = investor.reindex(index=investor.index[::-1])"
   ]
  },
  {
   "cell_type": "code",
   "execution_count": 3,
   "metadata": {
    "collapsed": true
   },
   "outputs": [],
   "source": [
    "investor2005 = investor['2005']\n",
    "investorSentiments2005 = investor2005[['Bullish','Neutral','Bearish']]\n",
    "msft2005 = msft.loc[investor2005.index].interpolate()\n",
    "op2005 = msft2005.Open"
   ]
  },
  {
   "cell_type": "code",
   "execution_count": 4,
   "metadata": {
    "collapsed": true
   },
   "outputs": [],
   "source": [
    "svrModel = SVR()"
   ]
  },
  {
   "cell_type": "code",
   "execution_count": 5,
   "metadata": {
    "collapsed": true
   },
   "outputs": [],
   "source": [
    "params =[ {\"C\": [0.001, 0.01, 0.1, 1, 5, 10, 100],\n",
    "           'epsilon':[0.001, 0.01, 0.1, 1, 5, 10, 100],\n",
    "           'kernel':[ 'linear', 'rbf'],\n",
    "          'gamma':[0, 0.001, 0.01, 0.1, 1]},\n",
    "         {\"C\": [0.001, 0.01, 0.1, 1, 5, 10, 100],\n",
    "           'epsilon':[0.001, 0.01, 0.1, 1, 5, 10, 100],\n",
    "           'kernel':['poly', 'sigmoid'],\n",
    "          'degree':[1, 2, 3, 4, 5],\n",
    "          'coef0':[0, 0.001, 0.01, 0.1, 1],\n",
    "          'gamma':[0, 0.001, 0.01, 0.1, 1]}\n",
    "         ]"
   ]
  },
  {
   "cell_type": "code",
   "execution_count": null,
   "metadata": {
    "collapsed": false
   },
   "outputs": [],
   "source": [
    "gridsearch = GS(svrModel, param_grid=params)\n",
    "gridsearch.fit(investor2005,op2005)\n",
    "gridsearch.best_params_"
   ]
  },
  {
   "cell_type": "code",
   "execution_count": null,
   "metadata": {
    "collapsed": true
   },
   "outputs": [],
   "source": [
    "svrModel = SVR(C=0.01, coef0=0, degree=4, epsilon=0.01, gamma='auto', kernel='poly')"
   ]
  }
 ],
 "metadata": {
  "kernelspec": {
   "display_name": "Python [Root]",
   "language": "python",
   "name": "Python [Root]"
  },
  "language_info": {
   "codemirror_mode": {
    "name": "ipython",
    "version": 2
   },
   "file_extension": ".py",
   "mimetype": "text/x-python",
   "name": "python",
   "nbconvert_exporter": "python",
   "pygments_lexer": "ipython2",
   "version": "2.7.12"
  }
 },
 "nbformat": 4,
 "nbformat_minor": 0
}
