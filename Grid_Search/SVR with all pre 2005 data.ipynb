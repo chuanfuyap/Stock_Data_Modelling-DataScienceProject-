{
 "cells": [
  {
   "cell_type": "code",
   "execution_count": 3,
   "metadata": {
    "collapsed": false
   },
   "outputs": [],
   "source": [
    "%matplotlib inline\n",
    "import numpy as np\n",
    "import pandas as pd\n",
    "import matplotlib.pyplot as plt\n",
    "from sklearn.svm import SVR\n",
    "from sklearn.svm import SVC\n",
    "import scipy.stats as sp\n",
    "from sklearn.model_selection import GridSearchCV as GS"
   ]
  },
  {
   "cell_type": "code",
   "execution_count": 4,
   "metadata": {
    "collapsed": true
   },
   "outputs": [],
   "source": [
    "msft = pd.DataFrame.from_csv('MSFT.csv')\n",
    "msft = msft.interpolate()\n",
    "#changing the index to go from 1986 to 2016\n",
    "msft = msft.reindex(index=msft.index[::-1])\n",
    "investor = pd.DataFrame.from_csv('investor.csv')\n",
    "investor = investor.fillna(investor.mean())\n",
    "#changing the index to go from 1987 to 2016\n",
    "investor = investor.reindex(index=investor.index[::-1])"
   ]
  },
  {
   "cell_type": "code",
   "execution_count": 5,
   "metadata": {
    "collapsed": true
   },
   "outputs": [],
   "source": [
    "def evaluateModel(prediction,actual):    \n",
    "    prediction.plot(color='red', label='Prediction')\n",
    "    actual.plot(color='blue', label='Actual')\n",
    "    plt.legend(loc='best')\n",
    "    prediction = np.array(prediction.tolist())\n",
    "    actual = np.array(actual.tolist())\n",
    "    print('Pearson Correlation Coeefiecient: ', sp.pearsonr(actual, prediction))\n",
    "    error2 = [((x-y)/y)**2 for x, y in zip(prediction, actual)]\n",
    "    print (\"Normalised RMSE\",np.sqrt(np.sum(error2)))"
   ]
  },
  {
   "cell_type": "code",
   "execution_count": 6,
   "metadata": {
    "collapsed": true
   },
   "outputs": [],
   "source": [
    "params =[ {\"C\": [0.001, 0.01, 0.1, 1, 5, 10, 100],\n",
    "           'epsilon':[0.001, 0.01, 0.1, 1, 5, 10, 100],\n",
    "           'kernel':[ 'linear', 'rbf'],\n",
    "          'gamma':[0, 0.001, 0.01, 0.1, 1]},\n",
    "         {\"C\": [0.001, 0.01, 0.1, 1, 5, 10, 100],\n",
    "           'epsilon':[0.001, 0.01, 0.1, 1, 5, 10, 100],\n",
    "           'kernel':['poly', 'sigmoid'],\n",
    "          'degree':[1, 2, 3, 4, 5],\n",
    "          'coef0':[0, 0.001, 0.01, 0.1, 1],\n",
    "          'gamma':[0, 0.001, 0.01, 0.1, 1]}\n",
    "         ]"
   ]
  },
  {
   "cell_type": "code",
   "execution_count": 7,
   "metadata": {
    "collapsed": true
   },
   "outputs": [],
   "source": [
    "pre2006 = investor['1987':'2005']\n",
    "investorSentimentspre2006 = pre2006[['Bullish','Neutral','Bearish']]\n",
    "pre2006 = msft.loc[investorSentimentspre2006.index]\n",
    "pre2006 = pre2006.interpolate()\n",
    "oppre2006 = pre2006.Open"
   ]
  },
  {
   "cell_type": "markdown",
   "metadata": {},
   "source": [
    "First let's try this without using pearson correlation as a scoring method"
   ]
  },
  {
   "cell_type": "code",
   "execution_count": 5,
   "metadata": {
    "collapsed": false
   },
   "outputs": [
    {
     "data": {
      "text/plain": [
       "{'C': 100,\n",
       " 'coef0': 0.01,\n",
       " 'degree': 1,\n",
       " 'epsilon': 10,\n",
       " 'gamma': 0,\n",
       " 'kernel': 'sigmoid'}"
      ]
     },
     "execution_count": 5,
     "metadata": {},
     "output_type": "execute_result"
    }
   ],
   "source": [
    "svrModel = SVR()\n",
    "gridsearch = GS(svrModel, param_grid=params)\n",
    "gridsearch.fit(investorSentimentspre2006,oppre2006)\n",
    "gridsearch.best_params_"
   ]
  },
  {
   "cell_type": "code",
   "execution_count": 8,
   "metadata": {
    "collapsed": false
   },
   "outputs": [],
   "source": [
    "svrModel = SVR(C= 100,\n",
    " coef0= 0.01,\n",
    " degree= 1,\n",
    " epsilon= 10,\n",
    " gamma= 'auto',\n",
    " kernel= 'sigmoid')"
   ]
  },
  {
   "cell_type": "code",
   "execution_count": 9,
   "metadata": {
    "collapsed": false
   },
   "outputs": [],
   "source": [
    "investor2006 = investor['2006']\n",
    "investorSentiments2006 = investor2006[['Bullish','Neutral','Bearish']]\n",
    "msft2006 = msft.loc[investorSentiments2006.index].interpolate()\n",
    "op2006 = msft2006.Open"
   ]
  },
  {
   "cell_type": "code",
   "execution_count": 10,
   "metadata": {
    "collapsed": false
   },
   "outputs": [
    {
     "name": "stdout",
     "output_type": "stream",
     "text": [
      "('Pearson Correlation Coeefiecient: ', (0.21869020128173478, 0.11933223494543195))\n",
      "('Normalised RMSE', 11.02292644217764)\n"
     ]
    },
    {
     "data": {
      "image/png": "[encoded data removed]",
      "text/plain": [
       "<matplotlib.figure.Figure at 0x7fdc840c2e90>"
      ]
     },
     "metadata": {},
     "output_type": "display_data"
    }
   ],
   "source": [
    "svrModel.fit(investorSentimentspre2006,oppre2006)\n",
    "svrPred2006 = svrModel.predict(investorSentiments2006)\n",
    "svrPred2006 = pd.Series(svrPred2006, investorSentiments2006.index)\n",
    "evaluateModel(svrPred2006,op2006)"
   ]
  },
  {
   "cell_type": "markdown",
   "metadata": {},
   "source": [
    "Now let's try this with pearson correlation  as a scoring method"
   ]
  },
  {
   "cell_type": "code",
   "execution_count": 11,
   "metadata": {
    "collapsed": true
   },
   "outputs": [],
   "source": [
    "def pearson_correlation(clf, x, y):\n",
    "    xresults = clf.predict(x)\n",
    "    xlist = np.array(xresults.tolist())\n",
    "    ylist = np.array(y.tolist())\n",
    "    num1, num2 = sp.pearsonr(ylist, xlist)\n",
    "    return num1"
   ]
  },
  {
   "cell_type": "code",
   "execution_count": 12,
   "metadata": {
    "collapsed": false
   },
   "outputs": [
    {
     "data": {
      "text/plain": [
       "{'C': 100,\n",
       " 'coef0': 1,\n",
       " 'degree': 5,\n",
       " 'epsilon': 0.001,\n",
       " 'gamma': 1,\n",
       " 'kernel': 'poly'}"
      ]
     },
     "execution_count": 12,
     "metadata": {},
     "output_type": "execute_result"
    }
   ],
   "source": [
    "svrModel2 = SVR()\n",
    "gridsearch = GS(svrModel2, param_grid=params, scoring=pearson_correlation)\n",
    "gridsearch.fit(investorSentimentspre2006,oppre2006)\n",
    "gridsearch.best_params_"
   ]
  },
  {
   "cell_type": "code",
   "execution_count": 13,
   "metadata": {
    "collapsed": true
   },
   "outputs": [],
   "source": [
    "svrModel = SVR(C= 100,\n",
    " coef0= 1,\n",
    " degree= 5,\n",
    " epsilon= 0.001,\n",
    " gamma= 1,\n",
    " kernel= 'poly')"
   ]
  },
  {
   "cell_type": "code",
   "execution_count": 14,
   "metadata": {
    "collapsed": false
   },
   "outputs": [
    {
     "name": "stdout",
     "output_type": "stream",
     "text": [
      "('Pearson Correlation Coeefiecient: ', (0.00035377690608696792, 0.99801398382833706))\n",
      "('Normalised RMSE', 10.227004231556094)\n"
     ]
    },
    {
     "data": {
      "image/png": "[encoded data removed]",
      "text/plain": [
       "<matplotlib.figure.Figure at 0x7fdc7fe73590>"
      ]
     },
     "metadata": {},
     "output_type": "display_data"
    }
   ],
   "source": [
    "svrModel.fit(investorSentimentspre2006,oppre2006)\n",
    "svrPred2006 = svrModel.predict(investorSentiments2006)\n",
    "svrPred2006 = pd.Series(svrPred2006, investorSentiments2006.index)\n",
    "evaluateModel(svrPred2006,op2006)"
   ]
  },
  {
   "cell_type": "markdown",
   "metadata": {},
   "source": [
    "For both the models constructed, they seem overly optimistic in their prediction. \n",
    "\n",
    "However, the second model while having large fluctuations, it seems score better in terms of nRMSE values."
   ]
  }
 ],
 "metadata": {
  "kernelspec": {
   "display_name": "Python [Root]",
   "language": "python",
   "name": "Python [Root]"
  },
  "language_info": {
   "codemirror_mode": {
    "name": "ipython",
    "version": 2
   },
   "file_extension": ".py",
   "mimetype": "text/x-python",
   "name": "python",
   "nbconvert_exporter": "python",
   "pygments_lexer": "ipython2",
   "version": "2.7.12"
  }
 },
 "nbformat": 4,
 "nbformat_minor": 0
}
