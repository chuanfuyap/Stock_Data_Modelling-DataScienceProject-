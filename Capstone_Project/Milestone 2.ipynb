{
 "cells": [
  {
   "cell_type": "code",
   "execution_count": 1,
   "metadata": {
    "collapsed": true
   },
   "outputs": [],
   "source": [
    "%matplotlib inline\n",
    "import numpy as np\n",
    "import pandas as pd\n",
    "import matplotlib.pyplot as plt\n",
    "from sklearn.ensemble import RandomForestClassifier as RFC\n",
    "from sklearn.ensemble import RandomForestRegressor as RFR\n",
    "import scipy.stats as sp\n",
    "from sklearn.model_selection import GridSearchCV as GS"
   ]
  },
  {
   "cell_type": "code",
   "execution_count": 2,
   "metadata": {
    "collapsed": true
   },
   "outputs": [],
   "source": [
    "def evaluateModel(prediction,actual):    \n",
    "    prediction.plot(color='red', label='Prediction')\n",
    "    actual.plot(color='blue', label='Actual')\n",
    "    plt.legend(loc='best')\n",
    "    prediction = np.array(prediction.tolist())\n",
    "    actual = np.array(actual.tolist())\n",
    "    print('Pearson Correlation Coeefiecient: ', sp.pearsonr(actual, prediction))\n",
    "    error2 = [((x-y)/y)**2 for x, y in zip(prediction, actual)]\n",
    "    print (\"Normalised RMSE\",np.sqrt(np.sum(error2)))"
   ]
  },
  {
   "cell_type": "code",
   "execution_count": 3,
   "metadata": {
    "collapsed": false
   },
   "outputs": [],
   "source": [
    "msft = pd.DataFrame.from_csv('MSFT.csv')\n",
    "msft = msft.interpolate()\n",
    "#changing the index to go from 1986 to 2016\n",
    "msft = msft.reindex(index=msft.index[::-1])\n",
    "investor = pd.DataFrame.from_csv('investor.csv')\n",
    "investor = investor.fillna(investor.mean())\n",
    "#changing the index to go from 1987 to 2016\n",
    "investor = investor.reindex(index=investor.index[::-1])"
   ]
  },
  {
   "cell_type": "markdown",
   "metadata": {},
   "source": [
    "## Processing msft stock data by averaging their weekly values to match the index of investor's weekly update"
   ]
  },
  {
   "cell_type": "code",
   "execution_count": null,
   "metadata": {
    "collapsed": false
   },
   "outputs": [],
   "source": [
    "weekholder1 = investor.drop(investor.index[-1]).index\n",
    "weekholder2 = investor.drop(investor.index[0]).index"
   ]
  },
  {
   "cell_type": "code",
   "execution_count": null,
   "metadata": {
    "collapsed": false
   },
   "outputs": [],
   "source": [
    "Open = []\n",
    "Close = []\n",
    "High = []\n",
    "Low = []\n",
    "for week1, week2 in zip(weekholder1, weekholder2):\n",
    "    Open.append(np.mean(msft.Open.loc[week1:week2]))\n",
    "    Close.append(np.mean(msft.Close.loc[week1:week2]))\n",
    "    High.append(np.mean(msft.High.loc[week1:week2]))\n",
    "    Low.append(np.mean(msft.Low.loc[week1:week2]))"
   ]
  },
  {
   "cell_type": "code",
   "execution_count": null,
   "metadata": {
    "collapsed": false
   },
   "outputs": [],
   "source": [
    "msftweek = pd.DataFrame(index=weekholder2, data={'Open': Open, \"Close\":Close, \"High\":High, \"Low\":Low})"
   ]
  },
  {
   "cell_type": "code",
   "execution_count": null,
   "metadata": {
    "collapsed": false
   },
   "outputs": [],
   "source": [
    "cols = ['Open','Close','High','Low']\n",
    "msftweek=msftweek[cols]\n",
    "msftweek.head()"
   ]
  },
  {
   "cell_type": "markdown",
   "metadata": {},
   "source": [
    "## Making new data to predict stock value ahead of time by making new features"
   ]
  },
  {
   "cell_type": "code",
   "execution_count": null,
   "metadata": {
    "collapsed": false
   },
   "outputs": [],
   "source": [
    "weekholder = msftweek.index\n",
    "investor = investor.loc[weekholder]"
   ]
  },
  {
   "cell_type": "code",
   "execution_count": null,
   "metadata": {
    "collapsed": false
   },
   "outputs": [],
   "source": [
    "investor.index"
   ]
  },
  {
   "cell_type": "code",
   "execution_count": null,
   "metadata": {
    "collapsed": false
   },
   "outputs": [],
   "source": [
    "msftweek.index"
   ]
  },
  {
   "cell_type": "code",
   "execution_count": null,
   "metadata": {
    "collapsed": false
   },
   "outputs": [],
   "source": [
    "def makenewfeature(window, Series):\n",
    "    name=Series.name\n",
    "    index=[]\n",
    "    mean=[]\n",
    "    std=[]\n",
    "    median=[]\n",
    "    gradient=[]\n",
    "    for count in range(len(weekholder)):\n",
    "        frame=count+window\n",
    "        if(frame<len(weekholder)):\n",
    "            index.append(weekholder[frame])\n",
    "            mean.append(np.mean(Series[count:frame]))\n",
    "            std.append(np.std(Series[count:frame]))\n",
    "            median.append(np.median(Series[count:frame]))\n",
    "            gradient.append(np.mean(np.gradient(Series[count:frame])))\n",
    "    df = pd.DataFrame(index=index, data={name+'_mean': mean, name+\"_std\":std, name+\"_median\":median, name+\"_gradient\":gradient})\n",
    "    return df"
   ]
  },
  {
   "cell_type": "code",
   "execution_count": null,
   "metadata": {
    "collapsed": false
   },
   "outputs": [],
   "source": [
    "statsOpen = makenewfeature(9, msftweek.Open)\n",
    "statsBullish = makenewfeature(9, investor.Bullish)\n",
    "statsNeutral = makenewfeature(9, investor.Neutral)\n",
    "statsBearish = makenewfeature(9, investor.Bearish)"
   ]
  },
  {
   "cell_type": "code",
   "execution_count": null,
   "metadata": {
    "collapsed": false
   },
   "outputs": [],
   "source": [
    "frames = [statsOpen, statsBullish, statsNeutral, statsBearish]\n",
    "newfeatures = pd.concat(frames, axis=1)\n",
    "newfeatures.head()"
   ]
  },
  {
   "cell_type": "code",
   "execution_count": null,
   "metadata": {
    "collapsed": true
   },
   "outputs": [],
   "source": [
    "newfeatures.to_csv(\"newfeat_9.csv\")"
   ]
  },
  {
   "cell_type": "markdown",
   "metadata": {},
   "source": [
    "## now lets Random Forest on this new data but lets first split it into 80:20 train:test"
   ]
  },
  {
   "cell_type": "code",
   "execution_count": 4,
   "metadata": {
    "collapsed": false
   },
   "outputs": [
    {
     "data": {
      "text/html": [
       "<div>\n",
       "<table border=\"1\" class=\"dataframe\">\n",
       "  <thead>\n",
       "    <tr style=\"text-align: right;\">\n",
       "      <th></th>\n",
       "      <th>Open</th>\n",
       "      <th>Close</th>\n",
       "      <th>High</th>\n",
       "      <th>Low</th>\n",
       "    </tr>\n",
       "  </thead>\n",
       "  <tbody>\n",
       "    <tr>\n",
       "      <th>1987-09-18</th>\n",
       "      <td>116.916667</td>\n",
       "      <td>116.855000</td>\n",
       "      <td>118.250000</td>\n",
       "      <td>115.208333</td>\n",
       "    </tr>\n",
       "    <tr>\n",
       "      <th>1987-09-25</th>\n",
       "      <td>67.041667</td>\n",
       "      <td>68.208333</td>\n",
       "      <td>69.936667</td>\n",
       "      <td>66.500000</td>\n",
       "    </tr>\n",
       "    <tr>\n",
       "      <th>1987-10-02</th>\n",
       "      <td>64.541667</td>\n",
       "      <td>66.250000</td>\n",
       "      <td>67.270000</td>\n",
       "      <td>64.228333</td>\n",
       "    </tr>\n",
       "    <tr>\n",
       "      <th>1987-10-09</th>\n",
       "      <td>73.500000</td>\n",
       "      <td>73.666667</td>\n",
       "      <td>75.958333</td>\n",
       "      <td>71.396667</td>\n",
       "    </tr>\n",
       "    <tr>\n",
       "      <th>1987-10-16</th>\n",
       "      <td>71.791667</td>\n",
       "      <td>70.500000</td>\n",
       "      <td>74.041667</td>\n",
       "      <td>69.458333</td>\n",
       "    </tr>\n",
       "  </tbody>\n",
       "</table>\n",
       "</div>"
      ],
      "text/plain": [
       "                  Open       Close        High         Low\n",
       "1987-09-18  116.916667  116.855000  118.250000  115.208333\n",
       "1987-09-25   67.041667   68.208333   69.936667   66.500000\n",
       "1987-10-02   64.541667   66.250000   67.270000   64.228333\n",
       "1987-10-09   73.500000   73.666667   75.958333   71.396667\n",
       "1987-10-16   71.791667   70.500000   74.041667   69.458333"
      ]
     },
     "execution_count": 4,
     "metadata": {},
     "output_type": "execute_result"
    }
   ],
   "source": [
    "newfeatures = pd.read_csv(\"newfeat_9.csv\", index_col=0)\n",
    "msftweek = pd.read_csv(\"MSFT_weekly.csv\", index_col=0)\n",
    "expected = msftweek.loc[newfeatures.index]\n",
    "expected.head()"
   ]
  },
  {
   "cell_type": "code",
   "execution_count": 5,
   "metadata": {
    "collapsed": false
   },
   "outputs": [],
   "source": [
    "trainData = newfeatures[:(int)(len(newfeatures)*0.8)]\n",
    "testData = newfeatures[(-(int)(len(newfeatures)*0.2)):]\n",
    "trainOutput = expected.Open[:(int)(len(newfeatures)*0.8)]\n",
    "testOutput = expected.Open[(-(int)(len(newfeatures)*0.2)):]"
   ]
  },
  {
   "cell_type": "code",
   "execution_count": 7,
   "metadata": {
    "collapsed": false
   },
   "outputs": [],
   "source": [
    "params =[ {'criterion':[ 'mae', 'mse'],\n",
    "          'max_features':['auto', 'sqrt', 'log2'],\n",
    "          'min_samples_split':[2,3],\n",
    "          'bootstrap':[False],\n",
    "          'oob_score':[False],\n",
    "          'min_samples_leaf':[1,2,3],},\n",
    "         {'criterion':[ 'mae', 'mse'],\n",
    "          'max_features':['auto', 'sqrt', 'log2'],\n",
    "          'min_samples_split':[2,3],\n",
    "          'bootstrap':[True],\n",
    "          'oob_score':[True],\n",
    "          'min_samples_leaf':[1,2,3],} \n",
    "        ]"
   ]
  },
  {
   "cell_type": "code",
   "execution_count": 8,
   "metadata": {
    "collapsed": false
   },
   "outputs": [
    {
     "name": "stderr",
     "output_type": "stream",
     "text": [
      "/Users/chuanfuyap/anaconda/lib/python2.7/site-packages/sklearn/ensemble/forest.py:723: UserWarning: Some inputs do not have OOB scores. This probably means too few trees were used to compute any reliable oob estimates.\n",
      "  warn(\"Some inputs do not have OOB scores. \"\n"
     ]
    },
    {
     "data": {
      "text/plain": [
       "{'bootstrap': False,\n",
       " 'criterion': 'mae',\n",
       " 'max_features': 'auto',\n",
       " 'min_samples_leaf': 3,\n",
       " 'min_samples_split': 2,\n",
       " 'oob_score': False}"
      ]
     },
     "execution_count": 8,
     "metadata": {},
     "output_type": "execute_result"
    }
   ],
   "source": [
    "randomForestRegression = RFR()\n",
    "gridsearch = GS(randomForestRegression, param_grid=params)\n",
    "gridsearch.fit(trainData,trainOutput)\n",
    "gridsearch.best_params_"
   ]
  },
  {
   "cell_type": "code",
   "execution_count": 11,
   "metadata": {
    "collapsed": true
   },
   "outputs": [],
   "source": [
    "randomForestRegression = RFR(\n",
    " n_estimators=1000,\n",
    " bootstrap= False,\n",
    " criterion= 'mae',\n",
    " max_features= 'auto',\n",
    " min_samples_leaf= 3,\n",
    " min_samples_split= 2,\n",
    " oob_score= False)"
   ]
  },
  {
   "cell_type": "code",
   "execution_count": 12,
   "metadata": {
    "collapsed": false
   },
   "outputs": [
    {
     "data": {
      "text/plain": [
       "RandomForestRegressor(bootstrap=False, criterion='mae', max_depth=None,\n",
       "           max_features='auto', max_leaf_nodes=None,\n",
       "           min_impurity_split=1e-07, min_samples_leaf=3,\n",
       "           min_samples_split=2, min_weight_fraction_leaf=0.0,\n",
       "           n_estimators=1000, n_jobs=1, oob_score=False, random_state=None,\n",
       "           verbose=0, warm_start=False)"
      ]
     },
     "execution_count": 12,
     "metadata": {},
     "output_type": "execute_result"
    }
   ],
   "source": [
    "randomForestRegression.fit(trainData,trainOutput)"
   ]
  },
  {
   "cell_type": "code",
   "execution_count": 13,
   "metadata": {
    "collapsed": false
   },
   "outputs": [
    {
     "name": "stdout",
     "output_type": "stream",
     "text": [
      "('Pearson Correlation Coeefiecient: ', (0.99565222245184115, 0.0))\n",
      "('Normalised RMSE', 1.7680848545336609)\n"
     ]
    },
    {
     "data": {
      "image/png": "[encoded data removed]",
      "text/plain": [
       "<matplotlib.figure.Figure at 0x11516b050>"
      ]
     },
     "metadata": {},
     "output_type": "display_data"
    }
   ],
   "source": [
    "prediction = randomForestRegression.predict(trainData)\n",
    "prediction = pd.Series(prediction, trainData.index)\n",
    "evaluateModel(prediction,trainOutput)"
   ]
  },
  {
   "cell_type": "code",
   "execution_count": 21,
   "metadata": {
    "collapsed": false
   },
   "outputs": [
    {
     "name": "stdout",
     "output_type": "stream",
     "text": [
      "('Pearson Correlation Coeefiecient: ', (0.78594387599072857, 1.33678045360951e-64))\n",
      "('Normalised RMSE', 2.8918030689260479)\n"
     ]
    },
    {
     "data": {
      "image/png": "[encoded data removed]",
      "text/plain": [
       "<matplotlib.figure.Figure at 0x5bcc2ac10>"
      ]
     },
     "metadata": {},
     "output_type": "display_data"
    }
   ],
   "source": [
    "prediction = randomForestRegression.predict(testData)\n",
    "prediction = pd.Series(prediction, testData.index)\n",
    "evaluateModel(prediction,testOutput)"
   ]
  },
  {
   "cell_type": "markdown",
   "metadata": {},
   "source": [
    "that worked a lot better, now lets try classification"
   ]
  },
  {
   "cell_type": "code",
   "execution_count": 25,
   "metadata": {
    "collapsed": false
   },
   "outputs": [],
   "source": [
    "Clf = []\n",
    "previousday=msftweek.Open[0]\n",
    "for stock in msftweek.Open[1:]:    \n",
    "    if (stock > previousday):\n",
    "        Clf.append(1)\n",
    "    else:\n",
    "        Clf.append(-1)\n",
    "    previousday = stock"
   ]
  },
  {
   "cell_type": "code",
   "execution_count": 35,
   "metadata": {
    "collapsed": false
   },
   "outputs": [],
   "source": [
    "Clf = pd.Series(Clf , index=msftweek.index[1:])\n",
    "Clf=Clf[newfeatures.index]"
   ]
  },
  {
   "cell_type": "code",
   "execution_count": 36,
   "metadata": {
    "collapsed": false
   },
   "outputs": [],
   "source": [
    "trainClf = Clf[:(int)(len(newfeatures)*0.8)]\n",
    "testClft = Clf[(-(int)(len(newfeatures)*0.2)):]"
   ]
  },
  {
   "cell_type": "code",
   "execution_count": 37,
   "metadata": {
    "collapsed": true
   },
   "outputs": [],
   "source": [
    "params2 =[ {'criterion':[ 'gini', 'entropy'],\n",
    "          'max_features':['auto', 'log2'],\n",
    "          'min_samples_split':[2,3],\n",
    "          'bootstrap':[False],\n",
    "          'oob_score':[False],\n",
    "          'min_samples_leaf':[1,2,3],},\n",
    "         {'criterion':[ 'gini', 'entropy'],\n",
    "          'max_features':['auto', 'log2'],\n",
    "          'min_samples_split':[2,3],\n",
    "          'bootstrap':[True],\n",
    "          'oob_score':[True],\n",
    "          'min_samples_leaf':[1,2,3],}\n",
    "        ]"
   ]
  },
  {
   "cell_type": "code",
   "execution_count": 38,
   "metadata": {
    "collapsed": false
   },
   "outputs": [
    {
     "name": "stderr",
     "output_type": "stream",
     "text": [
      "/Users/chuanfuyap/anaconda/lib/python2.7/site-packages/sklearn/ensemble/forest.py:439: UserWarning: Some inputs do not have OOB scores. This probably means too few trees were used to compute any reliable oob estimates.\n",
      "  warn(\"Some inputs do not have OOB scores. \"\n"
     ]
    },
    {
     "data": {
      "text/plain": [
       "{'bootstrap': False,\n",
       " 'criterion': 'entropy',\n",
       " 'max_features': 'auto',\n",
       " 'min_samples_leaf': 3,\n",
       " 'min_samples_split': 3,\n",
       " 'oob_score': False}"
      ]
     },
     "execution_count": 38,
     "metadata": {},
     "output_type": "execute_result"
    }
   ],
   "source": [
    "randomForestClassifier = RFC()\n",
    "gridsearch = GS(randomForestClassifier, param_grid=params2)\n",
    "gridsearch.fit(trainData,trainClf)\n",
    "gridsearch.best_params_"
   ]
  },
  {
   "cell_type": "code",
   "execution_count": 41,
   "metadata": {
    "collapsed": true
   },
   "outputs": [],
   "source": [
    "randomForestClassifier = RFC(\n",
    " n_estimators=1000,\n",
    " bootstrap= False,\n",
    " criterion= 'entropy',\n",
    " max_features= 'auto',\n",
    " min_samples_leaf= 3,\n",
    " min_samples_split= 3,\n",
    " oob_score= False\n",
    "    )"
   ]
  },
  {
   "cell_type": "code",
   "execution_count": 42,
   "metadata": {
    "collapsed": false
   },
   "outputs": [
    {
     "data": {
      "text/plain": [
       "RandomForestClassifier(bootstrap=False, class_weight=None,\n",
       "            criterion='entropy', max_depth=None, max_features='auto',\n",
       "            max_leaf_nodes=None, min_impurity_split=1e-07,\n",
       "            min_samples_leaf=3, min_samples_split=3,\n",
       "            min_weight_fraction_leaf=0.0, n_estimators=1000, n_jobs=1,\n",
       "            oob_score=False, random_state=None, verbose=0,\n",
       "            warm_start=False)"
      ]
     },
     "execution_count": 42,
     "metadata": {},
     "output_type": "execute_result"
    }
   ],
   "source": [
    "randomForestClassifier.fit(trainData,trainClf)"
   ]
  },
  {
   "cell_type": "code",
   "execution_count": 47,
   "metadata": {
    "collapsed": false
   },
   "outputs": [
    {
     "data": {
      "text/plain": [
       "1.0"
      ]
     },
     "execution_count": 47,
     "metadata": {},
     "output_type": "execute_result"
    }
   ],
   "source": [
    "prediction = randomForestClassifier.predict(trainData)\n",
    "\n",
    "from __future__ import division\n",
    "\n",
    "trackright=0\n",
    "for x , y in zip(prediction, trainClf):\n",
    "    if (x==y):\n",
    "        trackright+=1\n",
    "trackright/len(trainClf)"
   ]
  },
  {
   "cell_type": "code",
   "execution_count": null,
   "metadata": {
    "collapsed": true
   },
   "outputs": [],
   "source": []
  }
 ],
 "metadata": {
  "kernelspec": {
   "display_name": "Python [Root]",
   "language": "python",
   "name": "Python [Root]"
  },
  "language_info": {
   "codemirror_mode": {
    "name": "ipython",
    "version": 2
   },
   "file_extension": ".py",
   "mimetype": "text/x-python",
   "name": "python",
   "nbconvert_exporter": "python",
   "pygments_lexer": "ipython2",
   "version": "2.7.12"
  }
 },
 "nbformat": 4,
 "nbformat_minor": 0
}
