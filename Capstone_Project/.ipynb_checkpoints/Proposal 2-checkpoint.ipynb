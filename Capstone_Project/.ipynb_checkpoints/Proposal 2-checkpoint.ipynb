{
 "cells": [
  {
   "cell_type": "markdown",
   "metadata": {},
   "source": [
    "## Idea\n",
    "\n",
    "Predicting Stock values using old stock data\n",
    "\n",
    "The idea is predict stock trade values, of a particular stock, if its value will increase or decrease. This can be targeted to investors looking to make profit off the stock market. The stock chosen for this project is Microsoft company's stock.\n",
    "\n",
    "## Interest\n",
    "\n",
    "People who would be interested would be an investor looking to make money with low risk. \n",
    "\n",
    "## Data for this project\n",
    "\n",
    "I will be using stock data as well as investor sentiment data obtained from Quandl.com.\n",
    "\n",
    "## Methods: \n",
    "\n",
    "As it is a time series data. Time series modelling would be done as well as regression models as they are continuous data.\n",
    "\n",
    "## Deliverables\n",
    "\n",
    "Jupyter Notebook files with code and results and Powerpoint Slides as final presentation."
   ]
  }
 ],
 "metadata": {
  "kernelspec": {
   "display_name": "Python [Root]",
   "language": "python",
   "name": "Python [Root]"
  },
  "language_info": {
   "codemirror_mode": {
    "name": "ipython",
    "version": 2
   },
   "file_extension": ".py",
   "mimetype": "text/x-python",
   "name": "python",
   "nbconvert_exporter": "python",
   "pygments_lexer": "ipython2",
   "version": "2.7.12"
  }
 },
 "nbformat": 4,
 "nbformat_minor": 0
}
